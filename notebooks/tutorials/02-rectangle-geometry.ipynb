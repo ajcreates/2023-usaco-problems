{
 "cells": [
  {
   "cell_type": "markdown",
   "metadata": {},
   "source": [
    "# Introduction to Rectangle Geometry\n",
    "Introduce the concept of rectangle geometry and its importance in programming."
   ]
  },
  {
   "cell_type": "code",
   "execution_count": 2,
   "metadata": {},
   "outputs": [
    {
     "name": "stdout",
     "output_type": "stream",
     "text": [
      "Area: 15\n",
      "Perimeter: 16\n",
      "This rectangle is not a square.\n"
     ]
    }
   ],
   "source": [
    "# Introduction to Rectangle Geometry\n",
    "\n",
    "# Define a Rectangle class\n",
    "class Rectangle:\n",
    "    def __init__(self, length, width):\n",
    "        self.length = length\n",
    "        self.width = width\n",
    "    \n",
    "    def area(self):\n",
    "        return self.length * self.width\n",
    "    \n",
    "    def perimeter(self):\n",
    "        return 2 * (self.length + self.width)\n",
    "    \n",
    "    def is_square(self):\n",
    "        return self.length == self.width\n",
    "\n",
    "# Create a rectangle object\n",
    "rectangle = Rectangle(5, 3)\n",
    "\n",
    "# Print the area and perimeter of the rectangle\n",
    "print(\"Area:\", rectangle.area())\n",
    "print(\"Perimeter:\", rectangle.perimeter())\n",
    "\n",
    "# Check if the rectangle is a square\n",
    "if rectangle.is_square():\n",
    "    print(\"This rectangle is a square.\")\n",
    "else:\n",
    "    print(\"This rectangle is not a square.\")"
   ]
  },
  {
   "cell_type": "markdown",
   "metadata": {},
   "source": [
    "# Rectangle Properties\n",
    "Discuss the properties of rectangles, such as sides, angles, and diagonals."
   ]
  },
  {
   "cell_type": "code",
   "execution_count": 3,
   "metadata": {},
   "outputs": [
    {
     "name": "stdout",
     "output_type": "stream",
     "text": [
      "Area: 15\n",
      "Perimeter: 16\n",
      "This rectangle is not a square.\n",
      "Diagonal: 5.830951894845301\n",
      "Angles: {'top_left': 90, 'top_right': 90, 'bottom_left': 90, 'bottom_right': 90}\n"
     ]
    }
   ],
   "source": [
    "# Discuss the properties of rectangles\n",
    "\n",
    "# Define a Rectangle class\n",
    "class Rectangle:\n",
    "    def __init__(self, length, width):\n",
    "        self.length = length\n",
    "        self.width = width\n",
    "    \n",
    "    def area(self):\n",
    "        return self.length * self.width\n",
    "    \n",
    "    def perimeter(self):\n",
    "        return 2 * (self.length + self.width)\n",
    "    \n",
    "    def is_square(self):\n",
    "        return self.length == self.width\n",
    "    \n",
    "    def diagonal(self):\n",
    "        return (self.length ** 2 + self.width ** 2) ** 0.5\n",
    "    \n",
    "    def angles(self):\n",
    "        return {\"top_left\": 90, \"top_right\": 90, \"bottom_left\": 90, \"bottom_right\": 90}\n",
    "\n",
    "# Create a rectangle object\n",
    "rectangle = Rectangle(5, 3)\n",
    "\n",
    "# Print the area and perimeter of the rectangle\n",
    "print(\"Area:\", rectangle.area())\n",
    "print(\"Perimeter:\", rectangle.perimeter())\n",
    "\n",
    "# Check if the rectangle is a square\n",
    "if rectangle.is_square():\n",
    "    print(\"This rectangle is a square.\")\n",
    "else:\n",
    "    print(\"This rectangle is not a square.\")\n",
    "\n",
    "# Print the diagonal and angles of the rectangle\n",
    "print(\"Diagonal:\", rectangle.diagonal())\n",
    "print(\"Angles:\", rectangle.angles())"
   ]
  },
  {
   "cell_type": "markdown",
   "metadata": {},
   "source": [
    "# Creating Rectangles\n",
    "Discuss how to create rectangles in Python, including how to specify their dimensions and position."
   ]
  },
  {
   "cell_type": "code",
   "execution_count": 4,
   "metadata": {},
   "outputs": [
    {
     "name": "stdout",
     "output_type": "stream",
     "text": [
      "Area: 8\n",
      "Perimeter: 12\n",
      "This rectangle is not a square.\n",
      "Diagonal: 4.47213595499958\n",
      "Angles: {'top_left': 90, 'top_right': 90, 'bottom_left': 90, 'bottom_right': 90}\n"
     ]
    }
   ],
   "source": [
    "# Create a function to create rectangles\n",
    "def create_rectangle(length, width, x=0, y=0):\n",
    "    \"\"\"\n",
    "    Creates a rectangle with the specified dimensions and position.\n",
    "    Default position is (0,0).\n",
    "    \"\"\"\n",
    "    rectangle = Rectangle(length, width)\n",
    "    rectangle.position = (x, y)\n",
    "    return rectangle\n",
    "\n",
    "# Create a rectangle object with dimensions 4x2 and position (1,1)\n",
    "rectangle2 = create_rectangle(4, 2, 1, 1)\n",
    "\n",
    "# Print the area and perimeter of the rectangle\n",
    "print(\"Area:\", rectangle2.area())\n",
    "print(\"Perimeter:\", rectangle2.perimeter())\n",
    "\n",
    "# Check if the rectangle is a square\n",
    "if rectangle2.is_square():\n",
    "    print(\"This rectangle is a square.\")\n",
    "else:\n",
    "    print(\"This rectangle is not a square.\")\n",
    "\n",
    "# Print the diagonal and angles of the rectangle\n",
    "print(\"Diagonal:\", rectangle2.diagonal())\n",
    "print(\"Angles:\", rectangle2.angles())"
   ]
  },
  {
   "cell_type": "markdown",
   "metadata": {},
   "source": [
    "# Rectangle Intersection\n",
    "Provide an example of how to find the intersection of two rectangles."
   ]
  },
  {
   "cell_type": "code",
   "execution_count": 5,
   "metadata": {},
   "outputs": [
    {
     "name": "stdout",
     "output_type": "stream",
     "text": [
      "Intersection Area: 2\n",
      "Intersection Perimeter: 6\n"
     ]
    }
   ],
   "source": [
    "# Define a function to find the intersection of two rectangles\n",
    "def rectangle_intersection(rect1, rect2):\n",
    "    \"\"\"\n",
    "    Finds the intersection of two rectangles.\n",
    "    Returns a new rectangle object representing the intersection.\n",
    "    If there is no intersection, returns None.\n",
    "    \"\"\"\n",
    "    x_overlap = max(0, min(rect1.length, rect2.length) - max(rect1.position[0], rect2.position[0]))\n",
    "    y_overlap = max(0, min(rect1.width, rect2.width) - max(rect1.position[1], rect2.position[1]))\n",
    "    if x_overlap == 0 or y_overlap == 0:\n",
    "        return None\n",
    "    else:\n",
    "        length = x_overlap\n",
    "        width = y_overlap\n",
    "        x = max(rect1.position[0], rect2.position[0])\n",
    "        y = max(rect1.position[1], rect2.position[1])\n",
    "        return create_rectangle(length, width, x, y)\n",
    "\n",
    "# Create two rectangle objects\n",
    "rectangle3 = create_rectangle(4, 3, 0, 0)\n",
    "rectangle4 = create_rectangle(5, 2, 2, 1)\n",
    "\n",
    "# Find the intersection of the two rectangles\n",
    "intersection = rectangle_intersection(rectangle3, rectangle4)\n",
    "\n",
    "# Print the area and perimeter of the intersection\n",
    "if intersection:\n",
    "    print(\"Intersection Area:\", intersection.area())\n",
    "    print(\"Intersection Perimeter:\", intersection.perimeter())\n",
    "else:\n",
    "    print(\"There is no intersection.\")"
   ]
  },
  {
   "cell_type": "markdown",
   "metadata": {},
   "source": [
    "# Rectangle Union\n",
    "Provide an example of how to find the union of two rectangles."
   ]
  },
  {
   "cell_type": "code",
   "execution_count": 6,
   "metadata": {},
   "outputs": [
    {
     "name": "stdout",
     "output_type": "stream",
     "text": [
      "Union Area: 21\n",
      "Union Perimeter: 20\n"
     ]
    }
   ],
   "source": [
    "# Define a function to find the union of two rectangles\n",
    "def rectangle_union(rect1, rect2):\n",
    "    \"\"\"\n",
    "    Finds the union of two rectangles.\n",
    "    Returns a new rectangle object representing the union.\n",
    "    \"\"\"\n",
    "    x1, y1 = rect1.position\n",
    "    x2, y2 = rect2.position\n",
    "    x = min(x1, x2)\n",
    "    y = min(y1, y2)\n",
    "    length = max(x1 + rect1.length, x2 + rect2.length) - x\n",
    "    width = max(y1 + rect1.width, y2 + rect2.width) - y\n",
    "    return create_rectangle(length, width, x, y)\n",
    "\n",
    "# Create two rectangle objects\n",
    "rectangle5 = create_rectangle(4, 3, 0, 0)\n",
    "rectangle6 = create_rectangle(5, 2, 2, 1)\n",
    "\n",
    "# Find the union of the two rectangles\n",
    "union = rectangle_union(rectangle5, rectangle6)\n",
    "\n",
    "# Print the area and perimeter of the union\n",
    "print(\"Union Area:\", union.area())\n",
    "print(\"Union Perimeter:\", union.perimeter())"
   ]
  },
  {
   "cell_type": "markdown",
   "metadata": {},
   "source": [
    "# Rectangle Area\n",
    "Provide an example of how to calculate the area of a rectangle."
   ]
  },
  {
   "cell_type": "code",
   "execution_count": 7,
   "metadata": {},
   "outputs": [
    {
     "name": "stdout",
     "output_type": "stream",
     "text": [
      "Area: 24\n"
     ]
    }
   ],
   "source": [
    "# Calculate the area of a rectangle\n",
    "rectangle7 = create_rectangle(6, 4)\n",
    "area = rectangle7.area()\n",
    "print(\"Area:\", area)"
   ]
  },
  {
   "cell_type": "markdown",
   "metadata": {},
   "source": [
    "# Rectangle Perimeter\n",
    "Provide an example of how to calculate the perimeter of a rectangle."
   ]
  },
  {
   "cell_type": "code",
   "execution_count": 8,
   "metadata": {},
   "outputs": [
    {
     "name": "stdout",
     "output_type": "stream",
     "text": [
      "Perimeter: 22\n"
     ]
    }
   ],
   "source": [
    "# Calculate the perimeter of a rectangle\n",
    "rectangle8 = create_rectangle(8, 3)\n",
    "perimeter = rectangle8.perimeter()\n",
    "print(\"Perimeter:\", perimeter)"
   ]
  },
  {
   "cell_type": "markdown",
   "metadata": {},
   "source": [
    "# Rectangle Diagonal\n",
    "Provide an example of how to calculate the diagonal of a rectangle."
   ]
  },
  {
   "cell_type": "code",
   "execution_count": 9,
   "metadata": {},
   "outputs": [
    {
     "name": "stdout",
     "output_type": "stream",
     "text": [
      "Diagonal: 7.280109889280518\n"
     ]
    }
   ],
   "source": [
    "# Calculate the diagonal of a rectangle\n",
    "rectangle9 = create_rectangle(7, 2)\n",
    "diagonal = rectangle9.diagonal()\n",
    "print(\"Diagonal:\", diagonal)"
   ]
  },
  {
   "cell_type": "markdown",
   "metadata": {},
   "source": [
    "# Rectangle Rotation\n",
    "Provide an example of how to rotate a rectangle around its center point."
   ]
  },
  {
   "cell_type": "code",
   "execution_count": 10,
   "metadata": {},
   "outputs": [],
   "source": [
    "# Define a function to rotate a rectangle around its center point\n",
    "def rotate_rectangle(rectangle, angle):\n",
    "    \"\"\"\n",
    "    Rotates a rectangle around its center point by the specified angle (in degrees).\n",
    "    Returns a new rectangle object representing the rotated rectangle.\n",
    "    \"\"\"\n",
    "    import math\n",
    "    \n",
    "    # Calculate the center point of the rectangle\n",
    "    center_x = rectangle.position[0] + rectangle.length / 2\n",
    "    center_y = rectangle.position[1] + rectangle.width / 2\n",
    "    \n",
    "    # Convert the angle to radians\n",
    "    angle_rad = math.radians(angle)\n",
    "    \n",
    "    # Calculate the new coordinates of the four corners of the rectangle\n",
    "    top_left_x = center_x + (rectangle.length / 2) * math.cos(angle_rad) - (rectangle.width / 2) * math.sin(angle_rad)\n",
    "    top_left_y = center_y - (rectangle.length / 2) * math.sin(angle_rad) - (rectangle.width / 2) * math.cos(angle_rad)\n",
    "    top_right_x = center_x - (rectangle.length / 2) * math.cos(angle_rad) - (rectangle.width / 2) * math.sin(angle_rad)\n",
    "    top_right_y = center_y + (rectangle.length / 2) * math.sin(angle_rad) - (rectangle.width / 2) * math.cos(angle_rad)\n",
    "    bottom_left_x = center_x + (rectangle.length / 2) * math.cos(angle_rad) + (rectangle.width / 2) * math.sin(angle_rad)\n",
    "    bottom_left_y = center_y - (rectangle.length / 2) * math.sin(angle_rad) + (rectangle.width / 2) * math.cos(angle_rad)\n",
    "    bottom_right_x = center_x - (rectangle.length / 2) * math.cos(angle_rad) + (rectangle.width / 2) * math.sin(angle_rad)\n",
    "    bottom_right_y = center_y + (rectangle.length / 2) * math.sin(angle_rad) + (rectangle.width / 2) * math.cos(angle_rad)\n",
    "    \n",
    "    # Calculate the new length and width of the rectangle\n",
    "    new_length = ((top_right_x - top_left_x) ** 2 + (top_right_y - top_left_y) ** 2) ** 0.5\n",
    "    new_width = ((top_right_x - bottom_right_x) ** 2 + (top_right_y - bottom_right_y) ** 2) ** 0.5\n",
    "    \n",
    "    # Calculate the new position of the rectangle\n",
    "    new_x = center_x - new_length / 2\n",
    "    new_y = center_y - new_width / 2\n",
    "    \n",
    "    # Create a new rectangle object with the rotated dimensions and position\n",
    "    return create_rectangle(new_length, new_width, new_x, new_y)"
   ]
  },
  {
   "cell_type": "markdown",
   "metadata": {},
   "source": [
    "# Visualizing Intersections\n",
    "\n",
    "This code was generated by this Copilot prompt: \n",
    "\n",
    "> Add one example that visualizes rectangle intersection using matplotlib. Provide comments that explain the code."
   ]
  },
  {
   "cell_type": "code",
   "execution_count": 11,
   "metadata": {},
   "outputs": [
    {
     "data": {
      "image/png": "[encoded data removed]",
      "text/plain": [
       "<Figure size 640x480 with 1 Axes>"
      ]
     },
     "metadata": {},
     "output_type": "display_data"
    }
   ],
   "source": [
    "import matplotlib.pyplot as plt\n",
    "\n",
    "# Create two rectangle objects\n",
    "rectangle1 = create_rectangle(4, 3, 0, 0)\n",
    "rectangle2 = create_rectangle(5, 2, 2, 1)\n",
    "\n",
    "# Find the intersection of the two rectangles\n",
    "intersection = rectangle_intersection(rectangle1, rectangle2)\n",
    "\n",
    "# Create a figure and axis object\n",
    "fig, ax = plt.subplots()\n",
    "\n",
    "# Plot the first rectangle\n",
    "rect1 = plt.Rectangle(rectangle1.position, rectangle1.length, rectangle1.width, linewidth=1, edgecolor='r', facecolor='none')\n",
    "ax.add_patch(rect1)\n",
    "\n",
    "# Plot the second rectangle\n",
    "rect2 = plt.Rectangle(rectangle2.position, rectangle2.length, rectangle2.width, linewidth=1, edgecolor='b', facecolor='none')\n",
    "ax.add_patch(rect2)\n",
    "\n",
    "# If there is an intersection, plot it\n",
    "if intersection:\n",
    "    rect3 = plt.Rectangle(intersection.position, intersection.length, intersection.width, linewidth=1, edgecolor='g', facecolor='none')\n",
    "    ax.add_patch(rect3)\n",
    "\n",
    "# Set the x and y limits of the plot\n",
    "ax.set_xlim([-1, 7])\n",
    "ax.set_ylim([-1, 5])\n",
    "\n",
    "# Show the plot\n",
    "plt.show()\n"
   ]
  }
 ],
 "metadata": {
  "kernelspec": {
   "display_name": "Python 3",
   "language": "python",
   "name": "python3"
  },
  "language_info": {
   "codemirror_mode": {
    "name": "ipython",
    "version": 3
   },
   "file_extension": ".py",
   "mimetype": "text/x-python",
   "name": "python",
   "nbconvert_exporter": "python",
   "pygments_lexer": "ipython3",
   "version": "3.10.8"
  },
  "orig_nbformat": 4
 },
 "nbformat": 4,
 "nbformat_minor": 2
}
