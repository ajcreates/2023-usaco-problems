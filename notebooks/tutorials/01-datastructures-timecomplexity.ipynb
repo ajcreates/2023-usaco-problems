{
 "cells": [
  {
   "cell_type": "markdown",
   "metadata": {},
   "source": [
    "# Introduction to Data Structures\n",
    "Introduce the concept of data structures and their importance in programming."
   ]
  },
  {
   "cell_type": "code",
   "execution_count": null,
   "metadata": {},
   "outputs": [],
   "source": [
    "# Introduction to Data Structures\n",
    "\n",
    "# Data structures are a way of organizing and storing data in a computer so that it can be accessed and used efficiently.\n",
    "# They are important in programming because they allow us to perform operations on large amounts of data quickly and easily.\n",
    "\n",
    "# Some common data structures in Python include lists, tuples, sets, and dictionaries.\n",
    "\n",
    "# Lists are ordered collections of items, and can be modified.\n",
    "my_list = [1, 2, 3, 4, 5]\n",
    "\n",
    "# Tuples are similar to lists, but are immutable (cannot be modified).\n",
    "my_tuple = (1, 2, 3, 4, 5)\n",
    "\n",
    "# Sets are unordered collections of unique items.\n",
    "my_set = {1, 2, 3, 4, 5}\n",
    "\n",
    "# Dictionaries are collections of key-value pairs.\n",
    "my_dict = {'a': 1, 'b': 2, 'c': 3}\n",
    "\n",
    "# Each data structure has its own strengths and weaknesses, and choosing the right one for a particular task is important for efficient and effective programming."
   ]
  },
  {
   "cell_type": "markdown",
   "metadata": {},
   "source": [
    "# Lists\n",
    "Discuss the list data structure in Python, including how to create and manipulate lists."
   ]
  },
  {
   "cell_type": "code",
   "execution_count": null,
   "metadata": {},
   "outputs": [],
   "source": [
    "# Lists are ordered collections of items, and can be modified.\n",
    "# We can create a list by enclosing a comma-separated sequence of values in square brackets.\n",
    "my_list = [1, 2, 3, 4, 5]\n",
    "\n",
    "# We can access individual elements of a list using indexing.\n",
    "# Indexing starts at 0, so the first element of a list has index 0.\n",
    "# We can also use negative indexing to access elements from the end of the list.\n",
    "print(my_list[0])   # Output: 1\n",
    "print(my_list[-1])  # Output: 5\n",
    "\n",
    "# We can modify elements of a list using indexing.\n",
    "my_list[0] = 6\n",
    "print(my_list)  # Output: [6, 2, 3, 4, 5]\n",
    "\n",
    "# We can add elements to a list using the append() method.\n",
    "my_list.append(6)\n",
    "print(my_list)  # Output: [6, 2, 3, 4, 5, 6]\n",
    "\n",
    "# We can concatenate two lists using the + operator.\n",
    "my_list2 = [7, 8, 9]\n",
    "my_list += my_list2\n",
    "print(my_list)  # Output: [6, 2, 3, 4, 5, 6, 7, 8, 9]\n",
    "\n",
    "# We can also use the extend() method to concatenate two lists.\n",
    "my_list.extend(my_list2)\n",
    "print(my_list)  # Output: [6, 2, 3, 4, 5, 6, 7, 8, 9, 7, 8, 9]\n",
    "\n",
    "# We can remove elements from a list using the remove() method.\n",
    "my_list.remove(6)\n",
    "print(my_list)  # Output: [2, 3, 4, 5, 7, 8, 9, 7, 8, 9]\n",
    "\n",
    "# We can also use the pop() method to remove and return the last element of a list.\n",
    "last_element = my_list.pop()\n",
    "print(last_element)  # Output: 9\n",
    "print(my_list)       # Output: [2, 3, 4, 5, 7, 8, 9, 7, 8]\n",
    "\n",
    "# We can use the len() function to get the length of a list.\n",
    "print(len(my_list))  # Output: 9"
   ]
  },
  {
   "cell_type": "markdown",
   "metadata": {},
   "source": [
    "# Tuples\n",
    "Discuss the tuple data structure in Python, including how to create and manipulate tuples."
   ]
  },
  {
   "cell_type": "code",
   "execution_count": null,
   "metadata": {},
   "outputs": [],
   "source": [
    "# Tuples\n",
    "\n",
    "# Tuples are similar to lists, but are immutable (cannot be modified).\n",
    "# We can create a tuple by enclosing a comma-separated sequence of values in parentheses.\n",
    "my_tuple = (1, 2, 3, 4, 5)\n",
    "\n",
    "# We can access individual elements of a tuple using indexing.\n",
    "# Indexing starts at 0, so the first element of a tuple has index 0.\n",
    "# We can also use negative indexing to access elements from the end of the tuple.\n",
    "print(my_tuple[0])   # Output: 1\n",
    "print(my_tuple[-1])  # Output: 5\n",
    "\n",
    "# We cannot modify elements of a tuple, as they are immutable.\n",
    "# However, we can create a new tuple by concatenating two tuples using the + operator.\n",
    "my_tuple2 = (6, 7, 8)\n",
    "new_tuple = my_tuple + my_tuple2\n",
    "print(new_tuple)  # Output: (1, 2, 3, 4, 5, 6, 7, 8)\n",
    "\n",
    "# We can also use the len() function to get the length of a tuple.\n",
    "print(len(new_tuple))  # Output: 8"
   ]
  },
  {
   "cell_type": "markdown",
   "metadata": {},
   "source": [
    "# Dictionaries\n",
    "Discuss the dictionary data structure in Python, including how to create and manipulate dictionaries."
   ]
  },
  {
   "cell_type": "code",
   "execution_count": null,
   "metadata": {},
   "outputs": [],
   "source": [
    "# Dictionaries\n",
    "\n",
    "# Dictionaries are collections of key-value pairs.\n",
    "# We can create a dictionary by enclosing a comma-separated sequence of key-value pairs in curly braces, with each pair separated by a colon.\n",
    "my_dict = {'a': 1, 'b': 2, 'c': 3}\n",
    "\n",
    "# We can access the value associated with a key using indexing with the key.\n",
    "print(my_dict['a'])  # Output: 1\n",
    "\n",
    "# We can modify the value associated with a key using indexing with the key.\n",
    "my_dict['a'] = 4\n",
    "print(my_dict)  # Output: {'a': 4, 'b': 2, 'c': 3}\n",
    "\n",
    "# We can add a new key-value pair to a dictionary using indexing with a new key.\n",
    "my_dict['d'] = 5\n",
    "print(my_dict)  # Output: {'a': 4, 'b': 2, 'c': 3, 'd': 5}\n",
    "\n",
    "# We can remove a key-value pair from a dictionary using the del keyword and indexing with the key.\n",
    "del my_dict['a']\n",
    "print(my_dict)  # Output: {'b': 2, 'c': 3, 'd': 5}\n",
    "\n",
    "# We can use the keys() method to get a list of all the keys in a dictionary.\n",
    "print(my_dict.keys())  # Output: ['b', 'c', 'd']\n",
    "\n",
    "# We can use the values() method to get a list of all the values in a dictionary.\n",
    "print(my_dict.values())  # Output: [2, 3, 5]\n",
    "\n",
    "# We can use the items() method to get a list of all the key-value pairs in a dictionary as tuples.\n",
    "print(my_dict.items())  # Output: [('b', 2), ('c', 3), ('d', 5)]"
   ]
  },
  {
   "cell_type": "markdown",
   "metadata": {},
   "source": [
    "# Sets\n",
    "Discuss the set data structure in Python, including how to create and manipulate sets."
   ]
  },
  {
   "cell_type": "code",
   "execution_count": null,
   "metadata": {},
   "outputs": [],
   "source": [
    "# Sets\n",
    "\n",
    "# Sets are unordered collections of unique items.\n",
    "# We can create a set by enclosing a comma-separated sequence of values in curly braces, or by using the set() function.\n",
    "my_set = {1, 2, 3, 4, 5}\n",
    "my_set2 = set([4, 5, 6, 7, 8])\n",
    "\n",
    "# We can access individual elements of a set using a for loop, but we cannot access them using indexing.\n",
    "for item in my_set:\n",
    "    print(item)\n",
    "\n",
    "# We can add elements to a set using the add() method.\n",
    "my_set.add(6)\n",
    "print(my_set)  # Output: {1, 2, 3, 4, 5, 6}\n",
    "\n",
    "# We can remove elements from a set using the remove() method.\n",
    "my_set.remove(6)\n",
    "print(my_set)  # Output: {1, 2, 3, 4, 5}\n",
    "\n",
    "# We can perform set operations such as union, intersection, and difference using the corresponding methods or operators.\n",
    "print(my_set.union(my_set2))  # Output: {1, 2, 3, 4, 5, 6, 7, 8}\n",
    "print(my_set.intersection(my_set2))  # Output: {4, 5}\n",
    "print(my_set.difference(my_set2))  # Output: {1, 2, 3}\n",
    "\n",
    "# We can use the len() function to get the number of elements in a set.\n",
    "print(len(my_set))  # Output: 5"
   ]
  },
  {
   "cell_type": "markdown",
   "metadata": {},
   "source": [
    "# Common Operations on Data Structures\n",
    "Discuss common operations that can be performed on data structures, such as indexing, slicing, and iterating."
   ]
  },
  {
   "cell_type": "code",
   "execution_count": null,
   "metadata": {},
   "outputs": [],
   "source": [
    "# Common Operations on Data Structures\n",
    "\n",
    "# Indexing and Slicing\n",
    "# We can access individual elements of a list or tuple using indexing.\n",
    "# We can also use slicing to access a range of elements.\n",
    "# Slicing syntax: [start:stop:step]\n",
    "my_list = [1, 2, 3, 4, 5]\n",
    "my_tuple = (1, 2, 3, 4, 5)\n",
    "\n",
    "print(my_list[0])   # Output: 1\n",
    "print(my_tuple[-1])  # Output: 5\n",
    "\n",
    "print(my_list[1:3])  # Output: [2, 3]\n",
    "print(my_tuple[::2])  # Output: (1, 3, 5)\n",
    "\n",
    "# Iterating\n",
    "# We can use a for loop to iterate over the elements of a list, tuple, set, or dictionary.\n",
    "# For dictionaries, we can iterate over the keys, values, or key-value pairs.\n",
    "my_list = [1, 2, 3, 4, 5]\n",
    "my_tuple = (1, 2, 3, 4, 5)\n",
    "my_set = {1, 2, 3, 4, 5}\n",
    "my_dict = {'a': 1, 'b': 2, 'c': 3}\n",
    "\n",
    "for item in my_list:\n",
    "    print(item)\n",
    "\n",
    "for item in my_tuple:\n",
    "    print(item)\n",
    "\n",
    "for item in my_set:\n",
    "    print(item)\n",
    "\n",
    "for key in my_dict:\n",
    "    print(key)\n",
    "\n",
    "for value in my_dict.values():\n",
    "    print(value)\n",
    "\n",
    "for key, value in my_dict.items():\n",
    "    print(key, value)"
   ]
  },
  {
   "cell_type": "markdown",
   "metadata": {},
   "source": [
    "# Time Complexity Analysis\n",
    "Introduce the concept of time complexity and how it is used to analyze the efficiency of algorithms."
   ]
  },
  {
   "cell_type": "code",
   "execution_count": null,
   "metadata": {},
   "outputs": [],
   "source": [
    "# Time Complexity Analysis\n",
    "\n",
    "# Time complexity is a measure of the amount of time it takes to run an algorithm as a function of the size of the input.\n",
    "# It is used to analyze the efficiency of algorithms and to compare the performance of different algorithms for the same problem.\n",
    "\n",
    "# The time complexity of an algorithm is usually expressed using big O notation, which gives an upper bound on the growth rate of the algorithm as the input size increases.\n",
    "\n",
    "# Some common time complexities and their corresponding growth rates are:\n",
    "# O(1) - constant time\n",
    "# O(log n) - logarithmic time\n",
    "# O(n) - linear time\n",
    "# O(n log n) - linearithmic time\n",
    "# O(n^2) - quadratic time\n",
    "# O(2^n) - exponential time\n",
    "\n",
    "# When analyzing the time complexity of an algorithm, we usually focus on the worst-case scenario, which gives an upper bound on the running time for any input of size n.\n",
    "\n",
    "# We can use the time module in Python to measure the running time of an algorithm.\n",
    "# The time module provides a time() function that returns the current time in seconds since the epoch.\n",
    "# We can use this function to measure the running time of a piece of code by taking the difference between the start and end times.\n",
    "\n",
    "import time\n",
    "\n",
    "# Example of measuring the running time of a loop that sums the elements of a list\n",
    "my_list = [1, 2, 3, 4, 5]\n",
    "start_time = time.time()\n",
    "sum = 0\n",
    "for item in my_list:\n",
    "    sum += item\n",
    "end_time = time.time()\n",
    "print(\"Sum:\", sum)\n",
    "print(\"Running time:\", end_time - start_time, \"seconds\")"
   ]
  },
  {
   "cell_type": "markdown",
   "metadata": {},
   "source": [
    "# List Time Complexity Problems\n",
    "Provide examples of time complexity problems related to lists, such as finding the maximum element or reversing a list."
   ]
  },
  {
   "cell_type": "code",
   "execution_count": null,
   "metadata": {},
   "outputs": [],
   "source": [
    "# List Time Complexity Problems\n",
    "\n",
    "# Finding the maximum element in a list\n",
    "# Time complexity: O(n)\n",
    "def find_max(my_list):\n",
    "    max_element = my_list[0]\n",
    "    for item in my_list:\n",
    "        if item > max_element:\n",
    "            max_element = item\n",
    "    return max_element\n",
    "\n",
    "# Reversing a list\n",
    "# Time complexity: O(n)\n",
    "def reverse_list(my_list):\n",
    "    left = 0\n",
    "    right = len(my_list) - 1\n",
    "    while left < right:\n",
    "        my_list[left], my_list[right] = my_list[right], my_list[left]\n",
    "        left += 1\n",
    "        right -= 1\n",
    "    return my_list"
   ]
  },
  {
   "cell_type": "markdown",
   "metadata": {},
   "source": [
    "# Dictionary Time Complexity Problems\n",
    "Provide examples of time complexity problems related to dictionaries, such as finding the keys with the highest values or merging two dictionaries."
   ]
  },
  {
   "cell_type": "code",
   "execution_count": null,
   "metadata": {},
   "outputs": [],
   "source": [
    "# Dictionary Time Complexity Problems\n",
    "\n",
    "# Finding the key with the maximum value in a dictionary\n",
    "# Time complexity: O(n)\n",
    "def find_max_key(my_dict):\n",
    "    max_key = None\n",
    "    max_value = float('-inf')\n",
    "    for key, value in my_dict.items():\n",
    "        if value > max_value:\n",
    "            max_key = key\n",
    "            max_value = value\n",
    "    return max_key\n",
    "\n",
    "# Merging two dictionaries\n",
    "# Time complexity: O(n)\n",
    "def merge_dicts(dict1, dict2):\n",
    "    merged_dict = dict1.copy()\n",
    "    merged_dict.update(dict2)\n",
    "    return merged_dict"
   ]
  },
  {
   "cell_type": "markdown",
   "metadata": {},
   "source": [
    "# Set Time Complexity Problems\n",
    "Provide examples of time complexity problems related to sets, such as finding the intersection or union of two sets."
   ]
  },
  {
   "cell_type": "code",
   "execution_count": null,
   "metadata": {},
   "outputs": [],
   "source": [
    "# Set Time Complexity Problems\n",
    "\n",
    "# Finding the intersection of two sets\n",
    "# Time complexity: O(min(len(set1), len(set2)))\n",
    "def find_intersection(set1, set2):\n",
    "    return set1.intersection(set2)\n",
    "\n",
    "# Finding the union of two sets\n",
    "# Time complexity: O(len(set1) + len(set2))\n",
    "def find_union(set1, set2):\n",
    "    return set1.union(set2)"
   ]
  }
 ],
 "metadata": {
  "language_info": {
   "name": "python"
  },
  "orig_nbformat": 4
 },
 "nbformat": 4,
 "nbformat_minor": 2
}
